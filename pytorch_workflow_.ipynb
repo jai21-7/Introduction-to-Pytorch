{
  "nbformat": 4,
  "nbformat_minor": 0,
  "metadata": {
    "colab": {
      "provenance": [],
      "authorship_tag": "ABX9TyPIIVPAgdXhwpAHuD0gry/T",
      "include_colab_link": true
    },
    "kernelspec": {
      "name": "python3",
      "display_name": "Python 3"
    },
    "language_info": {
      "name": "python"
    }
  },
  "cells": [
    {
      "cell_type": "markdown",
      "metadata": {
        "id": "view-in-github",
        "colab_type": "text"
      },
      "source": [
        "<a href=\"https://colab.research.google.com/github/jai21-7/Introduction-to-Pytorch/blob/main/pytorch_workflow_.ipynb\" target=\"_parent\"><img src=\"https://colab.research.google.com/assets/colab-badge.svg\" alt=\"Open In Colab\"/></a>"
      ]
    },
    {
      "cell_type": "markdown",
      "source": [
        "###Py torch Workflow\n",
        "\n",
        "let's explore a an example PyTorch end-to-end workflow.\n",
        "\n",
        "Resources:\n",
        "\n",
        "* Ground truth notebook-https://github.com/mrdbourke/pytorch-deep-learning/blob/main/01_pytorch_workflow.ipynb\n",
        "\n",
        "* Book version of notebook- https://www.learnpytorch.io/01_pytorch_workflow/\n",
        "\n"
      ],
      "metadata": {
        "id": "jRCTrM4feCw9"
      }
    },
    {
      "cell_type": "code",
      "source": [
        "what_were_covering ={\n",
        "                          1: 'Data (prepare and load)',\n",
        "                          2: 'Build model',\n",
        "                          3: 'Fitting the model to data (training)',\n",
        "                          4: 'Evaluating a model',\n",
        "                          5: 'Saving and loading a model',\n",
        "                          6: 'Putting it all together'\n",
        "}\n",
        "what_were_covering"
      ],
      "metadata": {
        "colab": {
          "base_uri": "https://localhost:8080/"
        },
        "id": "Rq--7WWdgoju",
        "outputId": "2d99992b-fb2c-42ae-804f-56c6333a1c25"
      },
      "execution_count": 2,
      "outputs": [
        {
          "output_type": "execute_result",
          "data": {
            "text/plain": [
              "{1: 'Data (prepare and load)',\n",
              " 2: 'Build model',\n",
              " 3: 'Fitting the model to data (training)',\n",
              " 4: 'Evaluating a model',\n",
              " 5: 'Saving and loading a model',\n",
              " 6: 'Putting it all together'}"
            ]
          },
          "metadata": {},
          "execution_count": 2
        }
      ]
    },
    {
      "cell_type": "code",
      "execution_count": 3,
      "metadata": {
        "colab": {
          "base_uri": "https://localhost:8080/",
          "height": 36
        },
        "id": "t0AntMJud2R5",
        "outputId": "e3d864be-15cc-4c43-c2ee-97b9ab2fc13a"
      },
      "outputs": [
        {
          "output_type": "execute_result",
          "data": {
            "text/plain": [
              "'2.6.0+cu124'"
            ],
            "application/vnd.google.colaboratory.intrinsic+json": {
              "type": "string"
            }
          },
          "metadata": {},
          "execution_count": 3
        }
      ],
      "source": [
        "import torch\n",
        "from torch import nn\n",
        "import matplotlib.pyplot as plt\n",
        "#Check pytorch version\n",
        "torch.__version__"
      ]
    },
    {
      "cell_type": "markdown",
      "source": [
        "###1. Data (Preparing and loading)\n",
        "\n",
        "Data can be almost anything... in machine learning.\n",
        "\n",
        "* Excel speadsheet\n",
        "* Images of any kind\n",
        "* Videos ( YouTube has lots of data..)\n",
        "* Audio like songs or podcasts\n",
        "* DNA\n",
        "* Text\n",
        "\n",
        "Machine learning is a game of two parts:\n",
        "\n",
        "1. Get data into a numerical representation.\n",
        "2. Build a model to learn patterns in that numerical representation."
      ],
      "metadata": {
        "id": "BMRHwDaTjLXC"
      }
    },
    {
      "cell_type": "markdown",
      "source": [
        "https://docs.pytorch.org/docs/stable/nn.html"
      ],
      "metadata": {
        "id": "5Ev28nvrhVwC"
      }
    },
    {
      "cell_type": "markdown",
      "source": [],
      "metadata": {
        "id": "7t5YCbv6iCZ9"
      }
    }
  ]
}